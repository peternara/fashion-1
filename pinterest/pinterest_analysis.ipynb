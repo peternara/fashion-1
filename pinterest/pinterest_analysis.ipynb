{
 "metadata": {
  "name": ""
 },
 "nbformat": 3,
 "nbformat_minor": 0,
 "worksheets": [
  {
   "cells": [
    {
     "cell_type": "heading",
     "level": 1,
     "metadata": {},
     "source": [
      "Pinterest Analysis about the NYFW Fall 2014"
     ]
    },
    {
     "cell_type": "markdown",
     "metadata": {},
     "source": [
      "__Index__ <br>\n",
      "1. Getting the data<br>\n",
      "2. Auditing and cleaning<br>\n",
      "3. Store in MongoDB<br>\n",
      "4. Data analysis<br>"
     ]
    },
    {
     "cell_type": "heading",
     "level": 2,
     "metadata": {},
     "source": [
      "1. Getting the data"
     ]
    },
    {
     "cell_type": "code",
     "collapsed": false,
     "input": [
      "import json\n",
      "import re"
     ],
     "language": "python",
     "metadata": {},
     "outputs": [],
     "prompt_number": 1
    },
    {
     "cell_type": "code",
     "collapsed": false,
     "input": [
      "# pinterest_boards contained the gathered urls to the Pinterest boards from the search:\n",
      "# http://www.pinterest.com/search/boards/?q=nyfw%20fall%202014\n",
      "filename = \"pinterest_boards.json\"\n",
      "with open(filename, \"r\") as f:\n",
      "    file_boards = json.loads(f.read())"
     ],
     "language": "python",
     "metadata": {},
     "outputs": [],
     "prompt_number": 2
    },
    {
     "cell_type": "code",
     "collapsed": false,
     "input": [
      "# make sure all the boards belongs to the event. The url have to contain the words: nyfw, fall and 2014\n",
      "# the boards that doesn't contain the words will be added to a separate dictionary for manually inspection\n",
      "boards = {}\n",
      "check_boards = {}\n",
      "mandatory_words = ['nyfw','fall','2014']\n",
      "for board in file_boards:\n",
      "    board = board['href'].encode(\"ascii\")\n",
      "    valid_board = True\n",
      "    for word in mandatory_words:\n",
      "        if word not in board:\n",
      "            valid_board = False\n",
      "            break\n",
      "    if valid_board:\n",
      "        boards['_'.join(board.split('/')[3:5])] = board\n",
      "    else:\n",
      "        check_boards['_'.join(board.split('/')[3:5])] = board"
     ],
     "language": "python",
     "metadata": {},
     "outputs": [],
     "prompt_number": 3
    },
    {
     "cell_type": "code",
     "collapsed": true,
     "input": [
      "print \"Number of boards to manually inspect: \" + str(len(check_boards))"
     ],
     "language": "python",
     "metadata": {},
     "outputs": [
      {
       "output_type": "stream",
       "stream": "stdout",
       "text": [
        "Number of boards to manually inspect: 84\n"
       ]
      }
     ],
     "prompt_number": 5
    },
    {
     "cell_type": "code",
     "collapsed": false,
     "input": [
      "#After checking the names of the check_boards, I manually review some of them, and those 8 are the ones that belong to other events\n",
      "del check_boards['fawkeshunter_fallwinter-2013']\n",
      "del check_boards['csquared224_new-york-paris-fashion-week-spring-2014']\n",
      "del check_boards['sadeesays_rock-it-%2B-with-2013-14-fallwinter-trend-looks']\n",
      "del check_boards['sinnstyle_nyfw-fall14-at-sinn']\n",
      "del check_boards['squarekey_nyfw']\n",
      "del check_boards['themodeclectic_womens-fashion-vol-i-new-york-nyfw']\n",
      "del check_boards['tide_tracy-reese-washable-fashion-designs-for-tide-pods']\n",
      "del check_boards['tracyreeseny_tracy-tide-pods']"
     ],
     "language": "python",
     "metadata": {},
     "outputs": [],
     "prompt_number": 6
    },
    {
     "cell_type": "code",
     "collapsed": false,
     "input": [
      "#Call Pinterest for get the pins from the selected boards\n",
      "##You can find the gathered pins under the boards/ directory"
     ],
     "language": "python",
     "metadata": {},
     "outputs": [],
     "prompt_number": 7
    },
    {
     "cell_type": "heading",
     "level": 2,
     "metadata": {},
     "source": [
      "2-3. Cleaning, auditing and storing the pins in a Mongodb database"
     ]
    },
    {
     "cell_type": "code",
     "collapsed": false,
     "input": [
      "'''Create a client object to a mongod localhost instance and create or retrieve a database\n",
      "   Input: Database name we want to connect to\n",
      "   Output: Database connection'''\n",
      "def get_db(db_name):\n",
      "    from pymongo import MongoClient\n",
      "    client = MongoClient('localhost:27017')\n",
      "    db = client.db_name\n",
      "    return db\n",
      "\n",
      "'''Insert a pin on the 'pins' collection from the db database\n",
      "   Input: Database name, Pin dictionary'''\n",
      "def add_pin(db, pin):\n",
      "    if not db.pins.find_one(pin):\n",
      "        db.pins.insert(pin)"
     ],
     "language": "python",
     "metadata": {},
     "outputs": [],
     "prompt_number": 8
    },
    {
     "cell_type": "code",
     "collapsed": false,
     "input": [
      "'''Integer fields clean up (pins, likes and comments).\n",
      "   Remove \\n characters and whitespaces. Transform str to int\n",
      "   Input: Pin object, Name of the field to clean\n",
      "   Output: Integer value'''\n",
      "def clean_int_field(pin, field):\n",
      "    try:\n",
      "        return int(re.sub('\\n','', pin[field]).strip())\n",
      "    except:\n",
      "        return 0\n",
      "\n",
      "'''Pin cleaning and create the desired structure to store on the collection\n",
      "   Input: Pin dictionary\n",
      "   Output: Pin cleaned dictionary'''\n",
      "def clean_pin(pin):\n",
      "    pin['board'] = re.sub('\\n','', pin['board']).strip()\n",
      "    pin['comments'] = clean_int_field(pin, 'comments')\n",
      "    pin['likes'] = clean_int_field(pin, 'likes')\n",
      "    pin['repins'] = clean_int_field(pin, 'repins')\n",
      "    return pin\n",
      "\n",
      "not_valid = ['london', 'milan', 'paris', '2013', 'parisfashionweek', 'pfw', 'londonfashionweek', 'lfw', 'milanfashionweek', 'mfw']\n",
      "\n",
      "'''Verify that the pin doesn't belongs to another runway event\n",
      "   Input: Pin object\n",
      "   Output: boolean'''\n",
      "def valid_pin(pin):\n",
      "    valid = True\n",
      "    for word in not_valid:\n",
      "        if word in pin['description'].lower():\n",
      "            valid = False\n",
      "            break\n",
      "    return valid\n",
      "\n",
      "'''Verify if is a valid pin, clean it and add it to the database\n",
      "   Input: Pin object'''\n",
      "def clean_and_add(db, pins):\n",
      "    for pin in pins:\n",
      "        if valid_pin(pin):\n",
      "            pin = clean_pin(pin)\n",
      "            add_pin(db,pin)"
     ],
     "language": "python",
     "metadata": {},
     "outputs": [],
     "prompt_number": 9
    },
    {
     "cell_type": "code",
     "collapsed": false,
     "input": [
      "file_boards = !ls \"boards/\"\n",
      "print \"Number of boards to analyze: \" + str(len(file_boards))"
     ],
     "language": "python",
     "metadata": {},
     "outputs": [
      {
       "output_type": "stream",
       "stream": "stdout",
       "text": [
        "Number of boards to analyze: 321\n"
       ]
      }
     ],
     "prompt_number": 10
    },
    {
     "cell_type": "code",
     "collapsed": false,
     "input": [
      "db = get_db('pinterest')\n",
      "#db.pins.drop() #delete all pins from the collection and the metadata associated\n",
      "#db.create_collection('pins')"
     ],
     "language": "python",
     "metadata": {},
     "outputs": [],
     "prompt_number": 11
    },
    {
     "cell_type": "code",
     "collapsed": false,
     "input": [
      "#store in the database all the pins contained on each board json document\n",
      "for filename in file_boards:\n",
      "    filename = 'boards/' + filename\n",
      "    with open(filename, \"r\") as f:\n",
      "        pins = json.loads(f.read())\n",
      "        clean_and_add(db, pins)"
     ],
     "language": "python",
     "metadata": {},
     "outputs": [],
     "prompt_number": 14
    },
    {
     "cell_type": "code",
     "collapsed": false,
     "input": [
      "print \"Total number of pins in the Pinterest database: \" + str(db.pins.find().count())"
     ],
     "language": "python",
     "metadata": {},
     "outputs": [
      {
       "output_type": "stream",
       "stream": "stdout",
       "text": [
        "Total number of pins in the Pinterest database: 33525\n"
       ]
      }
     ],
     "prompt_number": 15
    },
    {
     "cell_type": "heading",
     "level": 2,
     "metadata": {},
     "source": [
      "4. Data analysis"
     ]
    },
    {
     "cell_type": "heading",
     "level": 3,
     "metadata": {},
     "source": [
      "4.0. Total number of unique pins"
     ]
    },
    {
     "cell_type": "code",
     "collapsed": false,
     "input": [
      "print \"Total number of unique pins: \" + str(len(db.pins.distinct(\"pin_page\")))"
     ],
     "language": "python",
     "metadata": {},
     "outputs": [
      {
       "output_type": "stream",
       "stream": "stdout",
       "text": [
        "Total number of unique pins: 24314\n"
       ]
      }
     ],
     "prompt_number": 16
    },
    {
     "cell_type": "heading",
     "level": 3,
     "metadata": {},
     "source": [
      "4.1. Boards analysis"
     ]
    },
    {
     "cell_type": "heading",
     "level": 4,
     "metadata": {},
     "source": [
      "4.1.1. Boards containing more pins (Who are the content generators?)"
     ]
    },
    {
     "cell_type": "code",
     "collapsed": false,
     "input": [
      "'''Boards whose pins appeared more times or originally have uploaded more images the same pin can appear in different users \n",
      "   boards but the \"pinned from\" board should be the same, in that case, the pin will be double count, but it's ok as \n",
      "   we are trying to see which boards are the most influence'''\n",
      "pipeline = [\n",
      "            { \"$group\": { \"_id\": \"$board\",\n",
      "                          \"count\": { \"$sum\": 1 } } },\n",
      "            { \"$sort\": { \"count\" : -1 } }\n",
      "           ]\n",
      "relevant_boards = db.pins.aggregate(pipeline)['result']"
     ],
     "language": "python",
     "metadata": {},
     "outputs": [],
     "prompt_number": 17
    },
    {
     "cell_type": "code",
     "collapsed": false,
     "input": [
      "first10_boards = relevant_boards[:10]\n",
      "sum_pins = 0\n",
      "for board in first10_boards:\n",
      "    sum_pins += board['count']\n",
      "print \"Number of pins contained in the 10 boards with more pins: \" + str(sum_pins)"
     ],
     "language": "python",
     "metadata": {},
     "outputs": [
      {
       "output_type": "stream",
       "stream": "stdout",
       "text": [
        "Number of pins contained in the 10 boards with more pins: 26588\n"
       ]
      }
     ],
     "prompt_number": 19
    },
    {
     "cell_type": "code",
     "collapsed": false,
     "input": [
      "26588/33525.0   #The 10 first boards contain the 79% of the total gathered pins"
     ],
     "language": "python",
     "metadata": {},
     "outputs": [
      {
       "metadata": {},
       "output_type": "pyout",
       "prompt_number": 20,
       "text": [
        "0.7930797912005966"
       ]
      }
     ],
     "prompt_number": 20
    },
    {
     "cell_type": "code",
     "collapsed": false,
     "input": [
      "import numpy as np\n",
      "from matplotlib import pyplot as plt\n",
      "\n",
      "'''Add text to each graph bars\n",
      "   Input: bars, subplot object, boolean for correct displaying float values\n",
      "   Output: subplot object\n",
      "'''\n",
      "def autolabel(rects, ax, round_height):\n",
      "    # attach some text labels\n",
      "    for rect in rects:\n",
      "        height = rect.get_height()\n",
      "        if round_height:\n",
      "            height = round(height, 2)\n",
      "        ax.text(rect.get_x()+rect.get_width()/2., 1.05*height, height,\n",
      "                ha='center', va='bottom')\n",
      "    return ax\n",
      "\n",
      "'''Plot a bar chart\n",
      "   Input: x data, y data, figure number, title, xlabel, ylabel, color, figure size, round value (true if data to display is float)\n",
      "   Output: bar chart plot\n",
      "'''\n",
      "def plot_bar_chart(x_data, y_data, num_fig, title='', xlabel='', ylabel='', color='blue', figsize=(8,5), round_values=False):\n",
      "    fig = plt.figure(num_fig, figsize=figsize)\n",
      "    ax = plt.subplot(111)\n",
      "    width = 0.8\n",
      "    barlist = ax.bar(range(len(y_data)), y_data, color=color)\n",
      "    ax = autolabel(barlist, ax, round_values)\n",
      "    ax.set_xticks(np.arange(len(x_data)) + width/2)\n",
      "    ax.set_xticklabels(x_data, rotation=90)\n",
      "    ax.set_title(\"       \" + title)\n",
      "    plt.xlabel(xlabel)\n",
      "    plt.ylabel(ylabel)\n",
      "    return plt.show()"
     ],
     "language": "python",
     "metadata": {},
     "outputs": [],
     "prompt_number": 21
    },
    {
     "cell_type": "code",
     "collapsed": false,
     "input": [
      "board_names = [ board['_id'].encode('ascii', 'ignore') for board in first10_boards]\n",
      "pins_per_board = [ board['count'] for board in first10_boards]\n",
      "plot_bar_chart(board_names, pins_per_board, 1, title=\"#Pins per each board\", xlabel='', ylabel=\"#Pins\", color='orange')"
     ],
     "language": "python",
     "metadata": {},
     "outputs": [
      {
       "metadata": {},
       "output_type": "display_data",
       "png": "[encoded data removed]",
       "text": [
        "<matplotlib.figure.Figure at 0x10f9211d0>"
       ]
      }
     ],
     "prompt_number": 22
    },
    {
     "cell_type": "heading",
     "level": 4,
     "metadata": {},
     "source": [
      "4.1.2. Most liked boards in absolute values (boards containing the major number of likes)"
     ]
    },
    {
     "cell_type": "code",
     "collapsed": false,
     "input": [
      "pipeline = [\n",
      "            { \"$group\": { \"_id\": \"$board\",\n",
      "                          \"count\": { \"$sum\": \"$likes\" } } },\n",
      "            { \"$sort\": { \"count\" : -1 } }\n",
      "           ]\n",
      "liked_boards = db.pins.aggregate(pipeline)['result'][:10]"
     ],
     "language": "python",
     "metadata": {},
     "outputs": [],
     "prompt_number": 23
    },
    {
     "cell_type": "code",
     "collapsed": false,
     "input": [
      "board_names = [ board['_id'].encode('ascii', 'ignore') for board in liked_boards]\n",
      "likes_per_board = [ board['count'] for board in liked_boards]\n",
      "plot_bar_chart(board_names, likes_per_board, 1, title=\"#Likes per each board\", xlabel='', ylabel=\"#Likes\", color='orange')"
     ],
     "language": "python",
     "metadata": {},
     "outputs": [
      {
       "metadata": {},
       "output_type": "display_data",
       "png": "[encoded data removed]",
       "text": [
        "<matplotlib.figure.Figure at 0x10f922950>"
       ]
      }
     ],
     "prompt_number": 24
    },
    {
     "cell_type": "heading",
     "level": 4,
     "metadata": {},
     "source": [
      "4.1.3. Most liked boards based on relative value (depending the number of pins they contain)"
     ]
    },
    {
     "cell_type": "code",
     "collapsed": false,
     "input": [
      "pipeline = [\n",
      "            { \"$group\": { \"_id\": \"$board\",\n",
      "                          \"avg_likes\": { \"$avg\": \"$likes\" } } },\n",
      "            { \"$sort\": { \"avg_likes\" : -1 } }\n",
      "           ]\n",
      "liked_avg_boards = db.pins.aggregate(pipeline)['result'][:10]"
     ],
     "language": "python",
     "metadata": {},
     "outputs": [],
     "prompt_number": 25
    },
    {
     "cell_type": "code",
     "collapsed": false,
     "input": [
      "board_names = [ board['_id'].encode('ascii', 'ignore') for board in liked_avg_boards]\n",
      "avg_likes_per_board = [ board['avg_likes'] for board in liked_avg_boards]\n",
      "plot_bar_chart(board_names, avg_likes_per_board, 1, title=\"Avarage of likes per each board\", xlabel='', ylabel=\"Avarage of likes\", \n",
      "               color='orange', round_values=True)"
     ],
     "language": "python",
     "metadata": {},
     "outputs": [
      {
       "metadata": {},
       "output_type": "display_data",
       "png": "[encoded data removed]",
       "text": [
        "<matplotlib.figure.Figure at 0x10f92e1d0>"
       ]
      }
     ],
     "prompt_number": 26
    },
    {
     "cell_type": "heading",
     "level": 3,
     "metadata": {},
     "source": [
      "4.2. Pins analysis"
     ]
    },
    {
     "cell_type": "heading",
     "level": 4,
     "metadata": {},
     "source": [
      "4.2.1. Create the unique_pins collection"
     ]
    },
    {
     "cell_type": "code",
     "collapsed": false,
     "input": [
      "#1. Group by unique identifier -> $pin_page\n",
      "#2. Sum integer fields\n",
      "#3. Set of boards and description fields\n",
      "pipeline = [\n",
      "            { \"$group\": { \"_id\": \"$pin_page\",\n",
      "                          \"repins\": { \"$sum\": \"$repins\"},\n",
      "                          \"description\": { \"$addToSet\": \"$description\" },\n",
      "                          \"board\": { \"$addToSet\": \"$board\" }, \n",
      "                          \"href\": { \"$addToSet\": \"$href\" }, \n",
      "                          \"likes\": { \"$sum\": \"$likes\" }, \n",
      "                          \"comments\": { \"$sum\": \"$comments\" } } },\n",
      "           ]\n",
      "\n",
      "unique_pins_result = db.pins.aggregate(pipeline)"
     ],
     "language": "python",
     "metadata": {},
     "outputs": [],
     "prompt_number": 27
    },
    {
     "cell_type": "code",
     "collapsed": false,
     "input": [
      "#insert the result in the new collection unique_pins\n",
      "db.unique_pins.insert(unique_pins_result['result']);"
     ],
     "language": "python",
     "metadata": {},
     "outputs": [],
     "prompt_number": 28
    },
    {
     "cell_type": "heading",
     "level": 4,
     "metadata": {},
     "source": [
      "4.2.2. Pins from the NYFW added in more different boards (unique pins with more repins)"
     ]
    },
    {
     "cell_type": "code",
     "collapsed": false,
     "input": [
      "#Note: the boards where the pins appear at, can be different from the ones that I've gathered (I only looked for boards of NYFW 2014\n",
      "#fall collection, but then people could add them to their own boards, and for instance the total number of repins, likes or comments\n",
      "#may be different\n",
      "more_pins = db.unique_pins.find().sort([(\"repins\", -1)])[:10]"
     ],
     "language": "python",
     "metadata": {},
     "outputs": [],
     "prompt_number": 29
    },
    {
     "cell_type": "code",
     "collapsed": false,
     "input": [
      "print 'board     | pins | likes   |      pin_page' \n",
      "for pin in more_pins:\n",
      "    print ('').join(pin['board']) + '   ' + str(pin['repins']) + '     ' + str(pin['likes']) +  '       ' + pin['_id']"
     ],
     "language": "python",
     "metadata": {},
     "outputs": [
      {
       "output_type": "stream",
       "stream": "stdout",
       "text": [
        "board     | pins | likes   |      pin_page\n",
        "jcrew.com   342     47       http://media-cache-ec0.pinimg.com/236x/5c/93/29/5c932937622c02ee595f6c61835b4376.jpg\n",
        "jcrew.com   285     30       http://media-cache-ec0.pinimg.com/236x/f8/c7/80/f8c780815970c476f3217185f0415921.jpg\n",
        "jcrew.com   273     50       http://media-cache-ec0.pinimg.com/236x/07/8b/08/078b08f37232c4c82eeb12b42e66510d.jpg\n",
        "jcrew.com   262     42       http://media-cache-ak0.pinimg.com/236x/f5/7f/dc/f57fdc2f599d94adad3cf7d6d5dbac88.jpg\n",
        "jcrew.com   230     52       http://media-cache-ec0.pinimg.com/236x/22/b3/20/22b3207eb5c6d14c60455af121a05c9b.jpg\n",
        "jcrew.com   227     38       http://media-cache-ak0.pinimg.com/236x/15/61/25/1561252ace110826afec63b18ebafb54.jpg\n",
        "jcrew.com   213     17       http://media-cache-ec0.pinimg.com/236x/c9/a8/2e/c9a82e70682616bcd5af830fa65091bb.jpg\n",
        "jcrew.com   205     31       http://media-cache-ak0.pinimg.com/236x/ed/70/5a/ed705a7fb9d8a388b007ea571b516bfc.jpg\n",
        "jcrew.com   201     25       http://media-cache-ec0.pinimg.com/236x/73/43/45/734345b388d1222e4ab6366952adccee.jpg\n",
        "jcrew.com   194     31       http://media-cache-ak0.pinimg.com/236x/14/d2/c2/14d2c22449c7e3a56a98d1e5060b9111.jpg\n"
       ]
      }
     ],
     "prompt_number": 30
    },
    {
     "cell_type": "markdown",
     "metadata": {},
     "source": [
      "__** The 10 pins with more repins, all of them belongs to the JCrew board:__<br>\n",
      "http://www.pinterest.com/jcrew/nyfw-fallwinter-2014/"
     ]
    },
    {
     "cell_type": "heading",
     "level": 4,
     "metadata": {},
     "source": [
      "4.2.3. More liked pins"
     ]
    },
    {
     "cell_type": "code",
     "collapsed": false,
     "input": [
      "more_likes = db.unique_pins.find().sort([(\"likes\", -1)])[:10]"
     ],
     "language": "python",
     "metadata": {},
     "outputs": [],
     "prompt_number": 31
    },
    {
     "cell_type": "code",
     "collapsed": false,
     "input": [
      "print 'board           | likes | pins  |      href' \n",
      "for pin in more_likes:\n",
      "    print ('').join(pin['board']) + '          ' + str(pin['likes']) + '     ' + str(pin['repins']) +  '       ' + pin['href'][0]"
     ],
     "language": "python",
     "metadata": {},
     "outputs": [
      {
       "output_type": "stream",
       "stream": "stdout",
       "text": [
        "board           | likes | pins  |      href\n",
        "jcrew.com          52     230       http://www.pinterest.com/pin/224335625162998612/\n",
        "jcrew.com          50     273       http://www.pinterest.com/pin/224335625162995128/\n",
        "jcrew.com          47     342       http://www.pinterest.com/pin/224335625163000284/\n",
        "jcrew.com          42     262       http://www.pinterest.com/pin/224335625162998702/\n",
        "jcrew.com          40     158       http://www.pinterest.com/pin/224335625162995271/\n",
        "jcrew.com          38     227       http://www.pinterest.com/pin/224335625162998334/\n",
        "jcrew.com          32     93       http://www.pinterest.com/pin/224335625163000981/\n",
        "jcrew.com          32     155       http://www.pinterest.com/pin/224335625162997500/\n",
        "jcrew.com          31     194       http://www.pinterest.com/pin/224335625162999790/\n",
        "stylecaster.com          31     39       http://www.pinterest.com/pin/163888873914182159/\n"
       ]
      }
     ],
     "prompt_number": 32
    },
    {
     "cell_type": "heading",
     "level": 3,
     "metadata": {},
     "source": [
      "4.3. Word analysis"
     ]
    },
    {
     "cell_type": "heading",
     "level": 4,
     "metadata": {},
     "source": [
      "4.3.1. Most repeated hashtags"
     ]
    },
    {
     "cell_type": "code",
     "collapsed": false,
     "input": [
      "# Using map reduce approach for counting the number of different hashtags\n",
      "# map-reduce functions are written in JS\n",
      "from bson.code import Code\n",
      "map = Code(\"function(){\"\n",
      "             \"var description = this.description;\"\n",
      "             \"if (description) {\"\n",
      "               \"description = ( description.join(' ')).toLowerCase().split(' ');\"\n",
      "               \"for (var i = 0; i < description.length; i++) {\"\n",
      "                 \"if (description[i]) {\"\n",
      "                   \"if (/^#/.test(description[i])) {\"\n",
      "                     \"emit(description[i], 1);\"\n",
      "                   \"}\"\n",
      "                 \"}\"\n",
      "                \"}\"\n",
      "              \"}\"\n",
      "          \"};\")\n",
      "\n",
      "reduce = Code(\"function( key, values ) {\" \n",
      "                \"var count = 0;\"\n",
      "                \"values.forEach(function(v) {\"\n",
      "                  \"count += v;\"    \n",
      "                \"});\"\n",
      "                \"return count;\"\n",
      "              \"}\")\n",
      "\n",
      "db.unique_pins.map_reduce(map, reduce, \"word_count\") # map_reduce(map, reduce, output collection)"
     ],
     "language": "python",
     "metadata": {},
     "outputs": [
      {
       "metadata": {},
       "output_type": "pyout",
       "prompt_number": 33,
       "text": [
        "Collection(Database(MongoClient('localhost', 27017), u'db_name'), u'word_count')"
       ]
      }
     ],
     "prompt_number": 33
    },
    {
     "cell_type": "code",
     "collapsed": false,
     "input": [
      "hashtags = db.word_count.find().sort([(\"value\", -1)])[:10]"
     ],
     "language": "python",
     "metadata": {},
     "outputs": [],
     "prompt_number": 49
    },
    {
     "cell_type": "markdown",
     "metadata": {},
     "source": [
      "__From this hashtag analysis is where I get the idea of looking for the Street style images__"
     ]
    },
    {
     "cell_type": "code",
     "collapsed": false,
     "input": [
      "for hashtag in hashtags:\n",
      "    print hashtag"
     ],
     "language": "python",
     "metadata": {},
     "outputs": [
      {
       "output_type": "stream",
       "stream": "stdout",
       "text": [
        "{u'_id': u'#nyfw', u'value': 2850.0}\n",
        "{u'_id': u'#fall', u'value': 222.0}\n",
        "{u'_id': u'#fashion', u'value': 217.0}\n",
        "{u'_id': u'#mbfw', u'value': 199.0}\n",
        "{u'_id': u'#winter', u'value': 198.0}\n",
        "{u'_id': u'#fall2014', u'value': 122.0}\n",
        "{u'_id': u'#streetstyle', u'value': 95.0}\n",
        "{u'_id': u'#fw14', u'value': 91.0}\n",
        "{u'_id': u'#roundup', u'value': 70.0}\n",
        "{u'_id': u'#style', u'value': 66.0}\n"
       ]
      }
     ],
     "prompt_number": 50
    },
    {
     "cell_type": "heading",
     "level": 4,
     "metadata": {},
     "source": [
      "4.3.2. Designers more times named"
     ]
    },
    {
     "cell_type": "code",
     "collapsed": false,
     "input": [
      "# First we have to get a list of the designers on the NYFW\n",
      "# I've used the BeautifulSoup library for looking into the html content\n",
      "from bs4 import BeautifulSoup\n",
      "import requests\n",
      "\n",
      "url = 'http://www.style.com/fashionshows/F2014RTW/NYC' #url with a list of designers\n",
      "\n",
      "'''Perform the get request\n",
      "   Input: URL string\n",
      "   Output: html gathered document'''\n",
      "def get_html(url):\n",
      "    r = requests.get(url)\n",
      "    return r.text\n",
      "\n",
      "'''Generate a list with the designer names from the html content\n",
      "   Input: html text\n",
      "   Output: list'''\n",
      "def extract_designers(page):\n",
      "    designers = []\n",
      "    soup = BeautifulSoup(page)\n",
      "    designers_list = soup.find(id=\"alphabetical_list\")\n",
      "    for designer in designers_list.select(\"span\"):\n",
      "        designers.append(designer.get_text())\n",
      "    return designers\n",
      "\n",
      "designers = extract_designers(get_html(url))"
     ],
     "language": "python",
     "metadata": {},
     "outputs": [],
     "prompt_number": 36
    },
    {
     "cell_type": "code",
     "collapsed": false,
     "input": [
      "designers = [designer.encode('utf-8') for designer in designers]"
     ],
     "language": "python",
     "metadata": {},
     "outputs": [],
     "prompt_number": 44
    },
    {
     "cell_type": "code",
     "collapsed": false,
     "input": [
      "#some clean up due to encoding problems\n",
      "designers[7] = 'A Detacher'\n",
      "designers[41] = 'Cut25 by Yigal Azrouel'\n",
      "designers[61] = 'Herve Leger by Max Azria'\n",
      "designers[154] = 'See by Chloe'\n",
      "designers[193] = 'Ygal Azrouel'"
     ],
     "language": "python",
     "metadata": {},
     "outputs": [],
     "prompt_number": 45
    },
    {
     "cell_type": "code",
     "collapsed": false,
     "input": [
      "'''Find the designer in the pin description. In order to find more matches, I've created 3 variants of the same word\n",
      "   example: combined = '(Carolina Herrera)|(CarolinaHerrera)|(Carolina-Herrera)'\n",
      "   Create a dictionary with key=designer, value=number of appearances\n",
      "'''\n",
      "designers_count = {}\n",
      "for designer in designers:\n",
      "    aux = [designer, designer.replace(' ',''), designer.replace(' ','-')] #try to find different possible names for the same designer\n",
      "    combined = \"(\" + \")|(\".join(aux) + \")\"\n",
      "    designers_count[designer] = db.unique_pins.find({'description' : {\"$regex\": combined, \"$options\": 'i' } }).count() #ignorecase"
     ],
     "language": "python",
     "metadata": {},
     "outputs": [],
     "prompt_number": 39
    },
    {
     "cell_type": "code",
     "collapsed": false,
     "input": [
      "sorted(designers_count.items(), key=lambda counts: counts[1], reverse=True)[:10]"
     ],
     "language": "python",
     "metadata": {},
     "outputs": [
      {
       "metadata": {},
       "output_type": "pyout",
       "prompt_number": 46,
       "text": [
        "[(u'Co', 10626),\n",
        " (u'Marc Jacobs', 496),\n",
        " (u'Ralph Lauren', 481),\n",
        " (u'Alexander Wang', 397),\n",
        " (u'Oscar de la Renta', 362),\n",
        " (u'Prabal Gurung', 332),\n",
        " (u'Michael Kors', 313),\n",
        " (u'Jason Wu', 307),\n",
        " (u'Carolina Herrera', 259),\n",
        " (u'Vera Wang', 255)]"
       ]
      }
     ],
     "prompt_number": 46
    },
    {
     "cell_type": "heading",
     "level": 4,
     "metadata": {},
     "source": [
      "4.3.3. Most repined 'streetstyles' images"
     ]
    },
    {
     "cell_type": "code",
     "collapsed": false,
     "input": [
      "street_style = '(streetstyle) | (street-style) | (street style)'\n",
      "street_count = db.unique_pins.find({'description' : {\"$regex\": street_style, \"$options\": 'i' } }).count()\n",
      "print 'Number of unique pins about Street Style: ' + str(street_count)"
     ],
     "language": "python",
     "metadata": {},
     "outputs": [
      {
       "output_type": "stream",
       "stream": "stdout",
       "text": [
        "Number of unique pins about Street Style: 631\n"
       ]
      }
     ],
     "prompt_number": 41
    },
    {
     "cell_type": "code",
     "collapsed": false,
     "input": [
      "street = db.unique_pins.find({'description' : {\"$regex\": street_style, \"$options\": 'i' } }).sort([(\"repins\", -1)])[:10]"
     ],
     "language": "python",
     "metadata": {},
     "outputs": [],
     "prompt_number": 42
    },
    {
     "cell_type": "code",
     "collapsed": false,
     "input": [
      "print 'repins  |      board         |     pin_page'\n",
      "for pin in street:\n",
      "    print str(pin['repins']) + '         ' + ('').join(pin['board']) +  '           ' + pin['href'][0]"
     ],
     "language": "python",
     "metadata": {},
     "outputs": [
      {
       "output_type": "stream",
       "stream": "stdout",
       "text": [
        "repins  |      board         |     pin_page\n",
        "42         racked.com           http://www.pinterest.com/pin/163888873914141623/"
       ]
      },
      {
       "output_type": "stream",
       "stream": "stdout",
       "text": [
        "\n",
        "38         stylecaster.com           http://www.pinterest.com/pin/163888873914157749/\n",
        "26         racked.com           http://www.pinterest.com/pin/163888873914141607/\n",
        "26         ellecanada.com           http://www.pinterest.com/pin/135178426289605486/\n",
        "22         stylecaster.com           http://www.pinterest.com/pin/163888873914141508/\n",
        "21         stylecaster.com           http://www.pinterest.com/pin/163888873914151877/\n",
        "18         stylecaster.com           http://www.pinterest.com/pin/163888873914151871/\n",
        "15         stylecaster.com           http://www.pinterest.com/pin/163888873914169406/\n",
        "15         ellecanada.com           http://www.pinterest.com/pin/135178426289605476/\n",
        "14         ellecanada.com           http://www.pinterest.com/pin/135178426289581663/\n"
       ]
      }
     ],
     "prompt_number": 43
    }
   ],
   "metadata": {}
  }
 ]
}